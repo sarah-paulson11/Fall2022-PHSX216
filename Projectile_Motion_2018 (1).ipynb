{
 "cells": [
  {
   "cell_type": "code",
   "execution_count": 38,
   "metadata": {},
   "outputs": [
    {
     "name": "stdout",
     "output_type": "stream",
     "text": [
      "C =  -334.4799999999901 B =  19.693333333332873 A =  -0.23333333333332798\n"
     ]
    },
    {
     "data": {
      "image/png": "[encoded data removed]",
      "text/plain": [
       "<Figure size 360x360 with 1 Axes>"
      ]
     },
     "metadata": {
      "needs_background": "light"
     },
     "output_type": "display_data"
    }
   ],
   "source": [
    "import numpy as np\n",
    "import matplotlib.pyplot as plt\n",
    "\n",
    "\n",
    "%matplotlib inline\n",
    "\n",
    "\n",
    "#Create arrays for your data\n",
    "x_arr = np.array (5)\n",
    "y_arr = np.array (5)\n",
    "#Create an array for your y-axis uncertainties\n",
    "dy_arr = np.array (5)\n",
    "#Reassign variables\n",
    "x = (36,39,42,45,48)\n",
    "y = (72.3,77.5,83.2,77.5,73.7)\n",
    "dy = (1.1,1.1,1.1,1.1,1.1)\n",
    "\n",
    "#size the plot\n",
    "plt.figure(figsize=(5,5))\n",
    "\n",
    "#create scatter plot\n",
    "plt.scatter(x, y, color='blue', marker='o')\n",
    "\n",
    "#create labels\n",
    "plt.xlabel('$\\\\theta$ (degrees)')\n",
    "plt.ylabel('$y_{mean}$ (cm)')\n",
    "plt.title('Height on wall vs Launcher Angle')\n",
    "\n",
    "#fitting to a 2nd degree polynomial\n",
    "c,b,a=np.polynomial.polynomial.polyfit(x,y,2,w=dy)\n",
    "\n",
    "#Annotate with values of A, B, C from best fit polynomial\n",
    "plt.annotate('A = {value:.{digits}E}'.format(value=a, digits=3),\n",
    "             (0.05, 0.9), xycoords='axes fraction')\n",
    "\n",
    "plt.annotate('B = {value:.{digits}E}'.format(value=b, digits=3),\n",
    "             (0.05, 0.85), xycoords='axes fraction')\n",
    "             \n",
    "plt.annotate('C = {value:.{digits}E}'.format(value=c, digits=3),\n",
    "             (0.05, 0.8), xycoords='axes fraction')\n",
    "\n",
    "\n",
    "print (\"C = \",c , \"B = \",b, \"A = \",a)"
   ]
  },
  {
   "cell_type": "code",
   "execution_count": null,
   "metadata": {},
   "outputs": [],
   "source": []
  },
  {
   "cell_type": "code",
   "execution_count": null,
   "metadata": {},
   "outputs": [],
   "source": []
  }
 ],
 "metadata": {
  "kernelspec": {
   "display_name": "Python 3 (ipykernel)",
   "language": "python",
   "name": "python3"
  },
  "language_info": {
   "codemirror_mode": {
    "name": "ipython",
    "version": 3
   },
   "file_extension": ".py",
   "mimetype": "text/x-python",
   "name": "python",
   "nbconvert_exporter": "python",
   "pygments_lexer": "ipython3",
   "version": "3.9.12"
  }
 },
 "nbformat": 4,
 "nbformat_minor": 2
}
