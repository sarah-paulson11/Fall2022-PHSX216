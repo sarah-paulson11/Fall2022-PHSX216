{
 "cells": [
  {
   "cell_type": "code",
   "execution_count": 50,
   "id": "3c145f83",
   "metadata": {},
   "outputs": [
    {
     "name": "stdout",
     "output_type": "stream",
     "text": [
      "2\n"
     ]
    }
   ],
   "source": [
    "import numpy as np\n",
    "\n",
    "def rule1 (c,dA):\n",
    "    dQ = c*dA\n",
    "    return dQ\n",
    "\n",
    "c = 1\n",
    "dA = 2\n",
    "\n",
    "dQ = rule1 (c,dA)\n",
    "print (dQ)"
   ]
  },
  {
   "cell_type": "code",
   "execution_count": 51,
   "id": "4e725dfe",
   "metadata": {},
   "outputs": [
    {
     "name": "stdout",
     "output_type": "stream",
     "text": [
      "6\n"
     ]
    }
   ],
   "source": [
    "def rule2 (c,m,A,x,dA):\n",
    "    dQ = c*m*A**(x)*dA\n",
    "    return dQ\n",
    "\n",
    "\n",
    "c = 1\n",
    "m = 2\n",
    "A = 3\n",
    "x = 1\n",
    "dA = 1\n",
    "\n",
    "dQ = rule2 (c,m,A,x,dA)\n",
    "print (dQ)"
   ]
  },
  {
   "cell_type": "code",
   "execution_count": 52,
   "id": "005680ee",
   "metadata": {},
   "outputs": [
    {
     "name": "stdout",
     "output_type": "stream",
     "text": [
      "2.5238858928247927\n"
     ]
    }
   ],
   "source": [
    "def rule3 (dA,dB):\n",
    "    dQ = np.sqrt (dA**2+dB**2)\n",
    "    return dQ\n",
    "\n",
    "dA = 1.4\n",
    "dB = 2.1\n",
    "\n",
    "dQ = rule3 (dA,dB)\n",
    "print (dQ)"
   ]
  },
  {
   "cell_type": "code",
   "execution_count": 58,
   "id": "f562cfc9",
   "metadata": {},
   "outputs": [
    {
     "name": "stdout",
     "output_type": "stream",
     "text": [
      "5.795205259522737\n"
     ]
    }
   ],
   "source": [
    "import numpy as np\n",
    "\n",
    "def rule4 (Q,m,dA,A,n,dB,B):\n",
    "    dQ = Q*(np.sqrt (((m*dA)/A)**2 + ((n*dB)/B)**2))\n",
    "    return dQ\n",
    "\n",
    "Q = 10.6\n",
    "m = 1\n",
    "dA = 1.4\n",
    "A = 4\n",
    "n = 1\n",
    "dB = 2.1\n",
    "B = 5\n",
    "\n",
    "dQ = rule4 (Q,m,dA,A,n,dB,B)\n",
    "print (dQ)"
   ]
  },
  {
   "cell_type": "code",
   "execution_count": 59,
   "id": "2756c5ff",
   "metadata": {},
   "outputs": [
    {
     "name": "stdout",
     "output_type": "stream",
     "text": [
      "0.0005365271286928031\n"
     ]
    }
   ],
   "source": [
    "def err_v (v,dx,x,dg,g,dy,y):\n",
    "    dV= v*(np.sqrt((dx/x)**2) + ((1/2*dg)/g)**2 + ((-1/2*dy)/2*y)**2)\n",
    "    return dV\n",
    "\n",
    "v = 3.53\n",
    "dx = 0.0002\n",
    "x = 1.588\n",
    "dg = 0.1\n",
    "g = 9.8\n",
    "dy = 0.0005\n",
    "y = 0.989\n",
    "\n",
    "dV = err_v (v,dx,x,dg,g,dy,y)\n",
    "print (dV)"
   ]
  },
  {
   "cell_type": "code",
   "execution_count": 60,
   "id": "709d0c59",
   "metadata": {},
   "outputs": [
    {
     "name": "stdout",
     "output_type": "stream",
     "text": [
      "The error in velocity of 0.0003 did not agree with the error in velocity of 0.0005365271286928031\n"
     ]
    }
   ],
   "source": [
    "print (\"The error in velocity of 0.0003 did not agree with the error in velocity of\", dV)"
   ]
  },
  {
   "cell_type": "code",
   "execution_count": 55,
   "id": "6a3a0ae6",
   "metadata": {},
   "outputs": [
    {
     "name": "stdout",
     "output_type": "stream",
     "text": [
      "[1.1  1.3  1.4  0.9  0.95 1.05]\n",
      "1.1166666666666667 0.17950549357115014\n",
      "The average of the the values is 1.1166666666666667\n",
      "The standard deviation the values is 0.17950549357115014\n"
     ]
    }
   ],
   "source": [
    "x = np.array ([1.1, 1.3, 1.4, 0.9, 0.95, 1.05])\n",
    "print (x)\n",
    "\n",
    "avgx = np.average(x)\n",
    "err_x = np.std (x)\n",
    "\n",
    "print(avgx,err_x)\n",
    "\n",
    "print (\"The average of the the values is\", avgx)\n",
    "print (\"The standard deviation the values is\", err_x)"
   ]
  },
  {
   "cell_type": "markdown",
   "id": "a9cfae38",
   "metadata": {},
   "source": [
    "$\\delta Q = \\sqrt{(\\delta A)^2 + (\\delta B)^2}$"
   ]
  },
  {
   "cell_type": "markdown",
   "id": "fa6c05cc",
   "metadata": {},
   "source": [
    "$\\delta v = v\\sqrt{(\\frac {\\delta x}{x})^2 + (\\frac {(1/2) \\delta g}{g})^2 + (\\frac {(-1/2) \\delta y}{2y})^2}$"
   ]
  },
  {
   "cell_type": "code",
   "execution_count": null,
   "id": "d9b10f40",
   "metadata": {},
   "outputs": [],
   "source": []
  },
  {
   "cell_type": "code",
   "execution_count": null,
   "id": "4cef47ea",
   "metadata": {},
   "outputs": [],
   "source": []
  }
 ],
 "metadata": {
  "kernelspec": {
   "display_name": "Python 3 (ipykernel)",
   "language": "python",
   "name": "python3"
  },
  "language_info": {
   "codemirror_mode": {
    "name": "ipython",
    "version": 3
   },
   "file_extension": ".py",
   "mimetype": "text/x-python",
   "name": "python",
   "nbconvert_exporter": "python",
   "pygments_lexer": "ipython3",
   "version": "3.9.12"
  }
 },
 "nbformat": 4,
 "nbformat_minor": 5
}
